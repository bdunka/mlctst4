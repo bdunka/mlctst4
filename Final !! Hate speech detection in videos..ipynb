{
 "cells": [
  {
   "cell_type": "code",
   "execution_count": 17,
   "id": "71920290",
   "metadata": {
    "scrolled": false
   },
   "outputs": [
    {
     "name": "stdout",
     "output_type": "stream",
     "text": [
      "Enter the url: https://www.youtube.com/watch?v=YgkmBMGrles&ab_channel=Sensei\n",
      "Video Download Begins...\n",
      "Video Downloaded!\n",
      "file found with no flac\n",
      "How To Install FFMPEG on Windows 11 - 2022\n",
      "How To Install FFMPEG on Windows 11 - 2022.3gpp\n",
      "How To Install FFMPEG on Windows 11 - 2022.flac\n",
      "C:\\Users\\kumar\\Path_to_store_transcript_file\n",
      "file found with no flac\n",
      "path_to_Google_Application_Credentials_File\n",
      "path_to_Google_Application_Credentials_File.3gpp\n",
      "path_to_Google_Application_Credentials_File.flac\n",
      "C:\\Users\\kumar\\Path_to_store_transcript_file\n",
      "file found with no flac\n",
      "Path_to_store_transcript_file\n",
      "Path_to_store_transcript_file.3gpp\n",
      "Path_to_store_transcript_file.flac\n",
      "C:\\Users\\kumar\\Path_to_store_transcript_file\n",
      "file found with no flac\n",
      "test\n",
      "test.3gpp\n",
      "test.flac\n",
      "C:\\Users\\kumar\\Path_to_store_transcript_file\n",
      "Conversion complete!!\n"
     ]
    },
    {
     "ename": "DefaultCredentialsError",
     "evalue": "File path_to_Google_Application_Credentials_File was not found.",
     "output_type": "error",
     "traceback": [
      "\u001b[1;31m---------------------------------------------------------------------------\u001b[0m",
      "\u001b[1;31mDefaultCredentialsError\u001b[0m                   Traceback (most recent call last)",
      "\u001b[1;32m~\\AppData\\Local\\Temp/ipykernel_16756/3593617443.py\u001b[0m in \u001b[0;36m<module>\u001b[1;34m\u001b[0m\n\u001b[0;32m    108\u001b[0m \u001b[1;31m#Upload file to Google Storage Bucket\u001b[0m\u001b[1;33m\u001b[0m\u001b[1;33m\u001b[0m\u001b[0m\n\u001b[0;32m    109\u001b[0m \u001b[0mbucket_name\u001b[0m \u001b[1;33m=\u001b[0m \u001b[1;34m\"your_bucket_name\"\u001b[0m\u001b[1;33m\u001b[0m\u001b[1;33m\u001b[0m\u001b[0m\n\u001b[1;32m--> 110\u001b[1;33m \u001b[0mupload_file\u001b[0m\u001b[1;33m(\u001b[0m\u001b[0mbucket_name\u001b[0m\u001b[1;33m,\u001b[0m\u001b[0mpath\u001b[0m\u001b[1;33m+\u001b[0m\u001b[0maudio_file\u001b[0m\u001b[1;33m,\u001b[0m\u001b[0maudio_file\u001b[0m\u001b[1;33m)\u001b[0m\u001b[1;33m\u001b[0m\u001b[1;33m\u001b[0m\u001b[0m\n\u001b[0m\u001b[0;32m    111\u001b[0m \u001b[0mprint\u001b[0m \u001b[1;33m(\u001b[0m\u001b[1;34m\"Video Uploaded!\"\u001b[0m\u001b[1;33m)\u001b[0m\u001b[1;33m\u001b[0m\u001b[1;33m\u001b[0m\u001b[0m\n\u001b[0;32m    112\u001b[0m \u001b[1;33m\u001b[0m\u001b[0m\n",
      "\u001b[1;32m~\\AppData\\Local\\Temp/ipykernel_16756/3593617443.py\u001b[0m in \u001b[0;36mupload_file\u001b[1;34m(bucket_name, filename, bucket_filename)\u001b[0m\n\u001b[0;32m     49\u001b[0m \u001b[1;31m#Upload file to Google Storage Bucket\u001b[0m\u001b[1;33m\u001b[0m\u001b[1;33m\u001b[0m\u001b[0m\n\u001b[0;32m     50\u001b[0m \u001b[1;32mdef\u001b[0m \u001b[0mupload_file\u001b[0m\u001b[1;33m(\u001b[0m\u001b[0mbucket_name\u001b[0m\u001b[1;33m,\u001b[0m\u001b[0mfilename\u001b[0m\u001b[1;33m,\u001b[0m \u001b[0mbucket_filename\u001b[0m\u001b[1;33m)\u001b[0m\u001b[1;33m:\u001b[0m\u001b[1;33m\u001b[0m\u001b[1;33m\u001b[0m\u001b[0m\n\u001b[1;32m---> 51\u001b[1;33m         \u001b[0mstorage_client\u001b[0m \u001b[1;33m=\u001b[0m \u001b[0mstorage\u001b[0m\u001b[1;33m.\u001b[0m\u001b[0mClient\u001b[0m\u001b[1;33m(\u001b[0m\u001b[1;33m)\u001b[0m\u001b[1;33m\u001b[0m\u001b[1;33m\u001b[0m\u001b[0m\n\u001b[0m\u001b[0;32m     52\u001b[0m         \u001b[0mbucket\u001b[0m \u001b[1;33m=\u001b[0m \u001b[0mstorage_client\u001b[0m\u001b[1;33m.\u001b[0m\u001b[0mget_bucket\u001b[0m\u001b[1;33m(\u001b[0m\u001b[0mbucket_name\u001b[0m\u001b[1;33m)\u001b[0m\u001b[1;33m\u001b[0m\u001b[1;33m\u001b[0m\u001b[0m\n\u001b[0;32m     53\u001b[0m         \u001b[0mblob\u001b[0m \u001b[1;33m=\u001b[0m \u001b[0mbucket\u001b[0m\u001b[1;33m.\u001b[0m\u001b[0mblob\u001b[0m\u001b[1;33m(\u001b[0m\u001b[0mbucket_filename\u001b[0m\u001b[1;33m)\u001b[0m\u001b[1;33m\u001b[0m\u001b[1;33m\u001b[0m\u001b[0m\n",
      "\u001b[1;32m~\\anaconda3\\lib\\site-packages\\google\\cloud\\storage\\client.py\u001b[0m in \u001b[0;36m__init__\u001b[1;34m(self, project, credentials, _http, client_info, client_options, use_auth_w_custom_endpoint)\u001b[0m\n\u001b[0;32m    171\u001b[0m                     \u001b[0mproject\u001b[0m \u001b[1;33m=\u001b[0m \u001b[1;34m\"<none>\"\u001b[0m\u001b[1;33m\u001b[0m\u001b[1;33m\u001b[0m\u001b[0m\n\u001b[0;32m    172\u001b[0m \u001b[1;33m\u001b[0m\u001b[0m\n\u001b[1;32m--> 173\u001b[1;33m         super(Client, self).__init__(\n\u001b[0m\u001b[0;32m    174\u001b[0m             \u001b[0mproject\u001b[0m\u001b[1;33m=\u001b[0m\u001b[0mproject\u001b[0m\u001b[1;33m,\u001b[0m\u001b[1;33m\u001b[0m\u001b[1;33m\u001b[0m\u001b[0m\n\u001b[0;32m    175\u001b[0m             \u001b[0mcredentials\u001b[0m\u001b[1;33m=\u001b[0m\u001b[0mcredentials\u001b[0m\u001b[1;33m,\u001b[0m\u001b[1;33m\u001b[0m\u001b[1;33m\u001b[0m\u001b[0m\n",
      "\u001b[1;32m~\\anaconda3\\lib\\site-packages\\google\\cloud\\client\\__init__.py\u001b[0m in \u001b[0;36m__init__\u001b[1;34m(self, project, credentials, client_options, _http)\u001b[0m\n\u001b[0;32m    318\u001b[0m \u001b[1;33m\u001b[0m\u001b[0m\n\u001b[0;32m    319\u001b[0m     \u001b[1;32mdef\u001b[0m \u001b[0m__init__\u001b[0m\u001b[1;33m(\u001b[0m\u001b[0mself\u001b[0m\u001b[1;33m,\u001b[0m \u001b[0mproject\u001b[0m\u001b[1;33m=\u001b[0m\u001b[1;32mNone\u001b[0m\u001b[1;33m,\u001b[0m \u001b[0mcredentials\u001b[0m\u001b[1;33m=\u001b[0m\u001b[1;32mNone\u001b[0m\u001b[1;33m,\u001b[0m \u001b[0mclient_options\u001b[0m\u001b[1;33m=\u001b[0m\u001b[1;32mNone\u001b[0m\u001b[1;33m,\u001b[0m \u001b[0m_http\u001b[0m\u001b[1;33m=\u001b[0m\u001b[1;32mNone\u001b[0m\u001b[1;33m)\u001b[0m\u001b[1;33m:\u001b[0m\u001b[1;33m\u001b[0m\u001b[1;33m\u001b[0m\u001b[0m\n\u001b[1;32m--> 320\u001b[1;33m         \u001b[0m_ClientProjectMixin\u001b[0m\u001b[1;33m.\u001b[0m\u001b[0m__init__\u001b[0m\u001b[1;33m(\u001b[0m\u001b[0mself\u001b[0m\u001b[1;33m,\u001b[0m \u001b[0mproject\u001b[0m\u001b[1;33m=\u001b[0m\u001b[0mproject\u001b[0m\u001b[1;33m,\u001b[0m \u001b[0mcredentials\u001b[0m\u001b[1;33m=\u001b[0m\u001b[0mcredentials\u001b[0m\u001b[1;33m)\u001b[0m\u001b[1;33m\u001b[0m\u001b[1;33m\u001b[0m\u001b[0m\n\u001b[0m\u001b[0;32m    321\u001b[0m         Client.__init__(\n\u001b[0;32m    322\u001b[0m             \u001b[0mself\u001b[0m\u001b[1;33m,\u001b[0m \u001b[0mcredentials\u001b[0m\u001b[1;33m=\u001b[0m\u001b[0mcredentials\u001b[0m\u001b[1;33m,\u001b[0m \u001b[0mclient_options\u001b[0m\u001b[1;33m=\u001b[0m\u001b[0mclient_options\u001b[0m\u001b[1;33m,\u001b[0m \u001b[0m_http\u001b[0m\u001b[1;33m=\u001b[0m\u001b[0m_http\u001b[0m\u001b[1;33m\u001b[0m\u001b[1;33m\u001b[0m\u001b[0m\n",
      "\u001b[1;32m~\\anaconda3\\lib\\site-packages\\google\\cloud\\client\\__init__.py\u001b[0m in \u001b[0;36m__init__\u001b[1;34m(self, project, credentials)\u001b[0m\n\u001b[0;32m    266\u001b[0m \u001b[1;33m\u001b[0m\u001b[0m\n\u001b[0;32m    267\u001b[0m         \u001b[1;32mif\u001b[0m \u001b[0mproject\u001b[0m \u001b[1;32mis\u001b[0m \u001b[1;32mNone\u001b[0m\u001b[1;33m:\u001b[0m\u001b[1;33m\u001b[0m\u001b[1;33m\u001b[0m\u001b[0m\n\u001b[1;32m--> 268\u001b[1;33m             \u001b[0mproject\u001b[0m \u001b[1;33m=\u001b[0m \u001b[0mself\u001b[0m\u001b[1;33m.\u001b[0m\u001b[0m_determine_default\u001b[0m\u001b[1;33m(\u001b[0m\u001b[0mproject\u001b[0m\u001b[1;33m)\u001b[0m\u001b[1;33m\u001b[0m\u001b[1;33m\u001b[0m\u001b[0m\n\u001b[0m\u001b[0;32m    269\u001b[0m \u001b[1;33m\u001b[0m\u001b[0m\n\u001b[0;32m    270\u001b[0m         \u001b[1;32mif\u001b[0m \u001b[0mproject\u001b[0m \u001b[1;32mis\u001b[0m \u001b[1;32mNone\u001b[0m\u001b[1;33m:\u001b[0m\u001b[1;33m\u001b[0m\u001b[1;33m\u001b[0m\u001b[0m\n",
      "\u001b[1;32m~\\anaconda3\\lib\\site-packages\\google\\cloud\\client\\__init__.py\u001b[0m in \u001b[0;36m_determine_default\u001b[1;34m(project)\u001b[0m\n\u001b[0;32m    285\u001b[0m     \u001b[1;32mdef\u001b[0m \u001b[0m_determine_default\u001b[0m\u001b[1;33m(\u001b[0m\u001b[0mproject\u001b[0m\u001b[1;33m)\u001b[0m\u001b[1;33m:\u001b[0m\u001b[1;33m\u001b[0m\u001b[1;33m\u001b[0m\u001b[0m\n\u001b[0;32m    286\u001b[0m         \u001b[1;34m\"\"\"Helper:  use default project detection.\"\"\"\u001b[0m\u001b[1;33m\u001b[0m\u001b[1;33m\u001b[0m\u001b[0m\n\u001b[1;32m--> 287\u001b[1;33m         \u001b[1;32mreturn\u001b[0m \u001b[0m_determine_default_project\u001b[0m\u001b[1;33m(\u001b[0m\u001b[0mproject\u001b[0m\u001b[1;33m)\u001b[0m\u001b[1;33m\u001b[0m\u001b[1;33m\u001b[0m\u001b[0m\n\u001b[0m\u001b[0;32m    288\u001b[0m \u001b[1;33m\u001b[0m\u001b[0m\n\u001b[0;32m    289\u001b[0m \u001b[1;33m\u001b[0m\u001b[0m\n",
      "\u001b[1;32m~\\anaconda3\\lib\\site-packages\\google\\cloud\\_helpers\\__init__.py\u001b[0m in \u001b[0;36m_determine_default_project\u001b[1;34m(project)\u001b[0m\n\u001b[0;32m    150\u001b[0m     \"\"\"\n\u001b[0;32m    151\u001b[0m     \u001b[1;32mif\u001b[0m \u001b[0mproject\u001b[0m \u001b[1;32mis\u001b[0m \u001b[1;32mNone\u001b[0m\u001b[1;33m:\u001b[0m\u001b[1;33m\u001b[0m\u001b[1;33m\u001b[0m\u001b[0m\n\u001b[1;32m--> 152\u001b[1;33m         \u001b[0m_\u001b[0m\u001b[1;33m,\u001b[0m \u001b[0mproject\u001b[0m \u001b[1;33m=\u001b[0m \u001b[0mgoogle\u001b[0m\u001b[1;33m.\u001b[0m\u001b[0mauth\u001b[0m\u001b[1;33m.\u001b[0m\u001b[0mdefault\u001b[0m\u001b[1;33m(\u001b[0m\u001b[1;33m)\u001b[0m\u001b[1;33m\u001b[0m\u001b[1;33m\u001b[0m\u001b[0m\n\u001b[0m\u001b[0;32m    153\u001b[0m     \u001b[1;32mreturn\u001b[0m \u001b[0mproject\u001b[0m\u001b[1;33m\u001b[0m\u001b[1;33m\u001b[0m\u001b[0m\n\u001b[0;32m    154\u001b[0m \u001b[1;33m\u001b[0m\u001b[0m\n",
      "\u001b[1;32m~\\anaconda3\\lib\\site-packages\\google\\auth\\_default.py\u001b[0m in \u001b[0;36mdefault\u001b[1;34m(scopes, request, quota_project_id, default_scopes)\u001b[0m\n\u001b[0;32m    618\u001b[0m \u001b[1;33m\u001b[0m\u001b[0m\n\u001b[0;32m    619\u001b[0m     \u001b[1;32mfor\u001b[0m \u001b[0mchecker\u001b[0m \u001b[1;32min\u001b[0m \u001b[0mcheckers\u001b[0m\u001b[1;33m:\u001b[0m\u001b[1;33m\u001b[0m\u001b[1;33m\u001b[0m\u001b[0m\n\u001b[1;32m--> 620\u001b[1;33m         \u001b[0mcredentials\u001b[0m\u001b[1;33m,\u001b[0m \u001b[0mproject_id\u001b[0m \u001b[1;33m=\u001b[0m \u001b[0mchecker\u001b[0m\u001b[1;33m(\u001b[0m\u001b[1;33m)\u001b[0m\u001b[1;33m\u001b[0m\u001b[1;33m\u001b[0m\u001b[0m\n\u001b[0m\u001b[0;32m    621\u001b[0m         \u001b[1;32mif\u001b[0m \u001b[0mcredentials\u001b[0m \u001b[1;32mis\u001b[0m \u001b[1;32mnot\u001b[0m \u001b[1;32mNone\u001b[0m\u001b[1;33m:\u001b[0m\u001b[1;33m\u001b[0m\u001b[1;33m\u001b[0m\u001b[0m\n\u001b[0;32m    622\u001b[0m             credentials = with_scopes_if_required(\n",
      "\u001b[1;32m~\\anaconda3\\lib\\site-packages\\google\\auth\\_default.py\u001b[0m in \u001b[0;36m<lambda>\u001b[1;34m()\u001b[0m\n\u001b[0;32m    611\u001b[0m         \u001b[1;31m# safely set on the returned credentials since requires_scopes will\u001b[0m\u001b[1;33m\u001b[0m\u001b[1;33m\u001b[0m\u001b[0m\n\u001b[0;32m    612\u001b[0m         \u001b[1;31m# guard against setting scopes on user credentials.\u001b[0m\u001b[1;33m\u001b[0m\u001b[1;33m\u001b[0m\u001b[0m\n\u001b[1;32m--> 613\u001b[1;33m         \u001b[1;32mlambda\u001b[0m\u001b[1;33m:\u001b[0m \u001b[0m_get_explicit_environ_credentials\u001b[0m\u001b[1;33m(\u001b[0m\u001b[0mquota_project_id\u001b[0m\u001b[1;33m=\u001b[0m\u001b[0mquota_project_id\u001b[0m\u001b[1;33m)\u001b[0m\u001b[1;33m,\u001b[0m\u001b[1;33m\u001b[0m\u001b[1;33m\u001b[0m\u001b[0m\n\u001b[0m\u001b[0;32m    614\u001b[0m         \u001b[1;32mlambda\u001b[0m\u001b[1;33m:\u001b[0m \u001b[0m_get_gcloud_sdk_credentials\u001b[0m\u001b[1;33m(\u001b[0m\u001b[0mquota_project_id\u001b[0m\u001b[1;33m=\u001b[0m\u001b[0mquota_project_id\u001b[0m\u001b[1;33m)\u001b[0m\u001b[1;33m,\u001b[0m\u001b[1;33m\u001b[0m\u001b[1;33m\u001b[0m\u001b[0m\n\u001b[0;32m    615\u001b[0m         \u001b[0m_get_gae_credentials\u001b[0m\u001b[1;33m,\u001b[0m\u001b[1;33m\u001b[0m\u001b[1;33m\u001b[0m\u001b[0m\n",
      "\u001b[1;32m~\\anaconda3\\lib\\site-packages\\google\\auth\\_default.py\u001b[0m in \u001b[0;36m_get_explicit_environ_credentials\u001b[1;34m(quota_project_id)\u001b[0m\n\u001b[0;32m    231\u001b[0m \u001b[1;33m\u001b[0m\u001b[0m\n\u001b[0;32m    232\u001b[0m     \u001b[1;32mif\u001b[0m \u001b[0mexplicit_file\u001b[0m \u001b[1;32mis\u001b[0m \u001b[1;32mnot\u001b[0m \u001b[1;32mNone\u001b[0m\u001b[1;33m:\u001b[0m\u001b[1;33m\u001b[0m\u001b[1;33m\u001b[0m\u001b[0m\n\u001b[1;32m--> 233\u001b[1;33m         credentials, project_id = load_credentials_from_file(\n\u001b[0m\u001b[0;32m    234\u001b[0m             \u001b[0mos\u001b[0m\u001b[1;33m.\u001b[0m\u001b[0menviron\u001b[0m\u001b[1;33m[\u001b[0m\u001b[0menvironment_vars\u001b[0m\u001b[1;33m.\u001b[0m\u001b[0mCREDENTIALS\u001b[0m\u001b[1;33m]\u001b[0m\u001b[1;33m,\u001b[0m \u001b[0mquota_project_id\u001b[0m\u001b[1;33m=\u001b[0m\u001b[0mquota_project_id\u001b[0m\u001b[1;33m\u001b[0m\u001b[1;33m\u001b[0m\u001b[0m\n\u001b[0;32m    235\u001b[0m         )\n",
      "\u001b[1;32m~\\anaconda3\\lib\\site-packages\\google\\auth\\_default.py\u001b[0m in \u001b[0;36mload_credentials_from_file\u001b[1;34m(filename, scopes, default_scopes, quota_project_id, request)\u001b[0m\n\u001b[0;32m    119\u001b[0m     \"\"\"\n\u001b[0;32m    120\u001b[0m     \u001b[1;32mif\u001b[0m \u001b[1;32mnot\u001b[0m \u001b[0mos\u001b[0m\u001b[1;33m.\u001b[0m\u001b[0mpath\u001b[0m\u001b[1;33m.\u001b[0m\u001b[0mexists\u001b[0m\u001b[1;33m(\u001b[0m\u001b[0mfilename\u001b[0m\u001b[1;33m)\u001b[0m\u001b[1;33m:\u001b[0m\u001b[1;33m\u001b[0m\u001b[1;33m\u001b[0m\u001b[0m\n\u001b[1;32m--> 121\u001b[1;33m         raise exceptions.DefaultCredentialsError(\n\u001b[0m\u001b[0;32m    122\u001b[0m             \u001b[1;34m\"File {} was not found.\"\u001b[0m\u001b[1;33m.\u001b[0m\u001b[0mformat\u001b[0m\u001b[1;33m(\u001b[0m\u001b[0mfilename\u001b[0m\u001b[1;33m)\u001b[0m\u001b[1;33m\u001b[0m\u001b[1;33m\u001b[0m\u001b[0m\n\u001b[0;32m    123\u001b[0m         )\n",
      "\u001b[1;31mDefaultCredentialsError\u001b[0m: File path_to_Google_Application_Credentials_File was not found."
     ]
    }
   ],
   "source": [
    "import os\n",
    "import subprocess\n",
    "from pytube import YouTube\n",
    "from google.cloud import storage\n",
    "from google.cloud import speech\n",
    "#from google.cloud.speech import enums\n",
    "#from google.cloud.speech import types\n",
    "from textblob import TextBlob\n",
    "from google.cloud import speech_v1p1beta1 as speech\n",
    "from google.cloud import speech_v1p1beta1 as speech\n",
    "from google.cloud.speech_v1p1beta1 import types\n",
    "\n",
    "\n",
    "\n",
    "#Specify path to store transcript file\n",
    "path = \"C:\\\\Users\\\\kumar\\\\Path_to_store_transcript_file\"\n",
    "\n",
    "#Specify path to Google Application Ccredentials File\n",
    "credential_path = \"path_to_Google_Application_Credentials_File\"\n",
    "os.environ['GOOGLE_APPLICATION_CREDENTIALS'] = credential_path\n",
    "\n",
    "\n",
    "#Download video\n",
    "def video_download(url):\n",
    "    yt = YouTube(url).streams.first().download(path)\n",
    "\n",
    "\n",
    "#Convert video to .flac format with mono channel\n",
    "def video_convert():\n",
    "    mylist = os.listdir(path)\n",
    "    for filename in mylist:\n",
    "        if \"flac\" not in filename:\n",
    "            print(\"file found with no flac\")\n",
    "            f = os.path.splitext(filename)[0]\n",
    "            print(f)\n",
    "            fin = f + \".3gpp\"\n",
    "            print(fin)\n",
    "            fout = f + \".flac\"\n",
    "            print(fout)\n",
    "            os.chdir(path)\n",
    "            print(os.getcwd())\n",
    "            subprocess.call(['ffmpeg', '-i', fin, '-c:a', 'flac', fout])\n",
    "            subprocess.call(['ffmpeg', '-i', fout,'-ac', '1', f+\"_mono.flac\"])\n",
    "#             os.remove(fin)\n",
    "    return f+\"_mono.flac\"\n",
    "\n",
    "\n",
    "\n",
    "#Upload file to Google Storage Bucket\n",
    "# def upload_file(bucket_name,filename, bucket_filename):\n",
    "# \tstorage_client = storage.Client()\n",
    "# \tbucket = storage_client.get_bucket(bucket_name)\n",
    "# \tblob = bucket.blob(bucket_filename)\n",
    "# \tblob.upload_from_filename(filename)\n",
    "\n",
    "\n",
    "#Call Google Speech-to-Text API and perform conversion\n",
    "# def audio_to_text(bucket_name, filename):\n",
    "# \tclient = speech.SpeechClient()\n",
    "# \tgcs_uri = \"gs://\"+bucket_name + \"/\" + filename\n",
    "# \taudio = types.RecognitionAudio(uri=gcs_uri)\n",
    "# \tconfig = types.RecognitionConfig(\n",
    "# \t\tencoding=enums.RecognitionConfig.AudioEncoding.FLAC,  #LINEAR16\n",
    "# \t\t    #sample_rate_hertz=48000,\n",
    "# \t\tlanguage_code='en-US')\n",
    "\n",
    "# \t# Detects speech in the audio file\n",
    "# \toperation = client.long_running_recognize(config, audio)\n",
    "# \tresponse = operation.result(timeout=90)\n",
    "\n",
    "# \t#print transcript\n",
    "# \ttranscript = \"\"\n",
    "# \tfor result in response.results:\n",
    "# \t\ttranscript += result.alternatives[0].transcript\n",
    "\n",
    "# \treturn transcript\n",
    "\n",
    "\n",
    "\n",
    "#Get Sentiment Analysis\n",
    "def sentiment_analysis():\n",
    "\twith open('transcript_input.txt', 'r') as transcript_file:\n",
    "\t\tlines = transcript_file.readlines()\n",
    "\t\tsentiment = TextBlob(lines[0])\n",
    "\t\tpol = sentiment.sentiment.polarity\n",
    "\t\tif pol > 0:\n",
    "\t\t\tsent = 'Positive'\n",
    "\t\telif pol < 0:\n",
    "\t\t\tsent = 'Negative'\n",
    "\t\telse:\n",
    "\t\t\tsent = 'Neutral'\n",
    "\t\n",
    "\ttranscript_file.close()\n",
    "\tprint(\"Polarity = \"+ str(pol))\n",
    "\treturn sent\n",
    "\n",
    "\n",
    "#Download video from given url\n",
    "url = input(\"Enter the url: \")\n",
    "print(\"Video Download Begins...\")\n",
    "video_download(url)\n",
    "print (\"Video Downloaded!\")\n",
    "\n",
    "#Convert to flac format with mono channel\n",
    "audio_file = video_convert()\n",
    "print (\"Conversion complete!!\")\n",
    "\n",
    "\n",
    "#Upload file to Google Storage Bucket\n",
    "bucket_name = \"your_bucket_name\"\n",
    "upload_file(bucket_name,path+audio_file,audio_file)\n",
    "print (\"Video Uploaded!\")\n",
    "\n",
    "#Convert audio to text\n",
    "print(\"Speech-to-Text Conversion Begins...\")\n",
    "transcript = audio_to_text(bucket_name, audio_file)\n",
    "print (\"Conversion complete!\")\n",
    "\n",
    "#Prints the transcript\n",
    "# print(\"\\nTranscript:\\n\")\n",
    "# print(transcript)\n",
    "\n",
    "# #Stores the transcript into a file\n",
    "# with open('transcript_input.txt', 'w') as transcript_file:\n",
    "# \ttranscript_file.write(transcript)\n",
    "# transcript_file.close\n",
    "\n",
    "\n",
    "import speech_recognition as sr\n",
    "\n",
    "def audio_to_text(file_path):\n",
    "    # Initialize the recognizer\n",
    "    r = sr.Recognizer()\n",
    "\n",
    "    # Load the audio file\n",
    "    with sr.AudioFile(file_path) as source:\n",
    "        # Read the entire audio file\n",
    "        audio_data = r.record(source)\n",
    "\n",
    "        # Convert speech to text\n",
    "        text = r.recognize_google(audio_data)\n",
    "\n",
    "    # Return the converted text\n",
    "    return text\n",
    "\n",
    "file_path = r\"C:\\Users\\kumar\\Path_to_store_transcript_file\\OSR_us_000_0011_8k.wav\"\n",
    "result = audio_to_text(file_path)\n",
    "with open (r'C:\\Users\\kumar\\Path_to_store_transcript_file\\transcript.txt','w') as f:\n",
    "    f.write(result)\n",
    "    \n",
    "    \n",
    "#Sentiment of transcript\n",
    "sentiment_value = sentiment_analysis()\n",
    "print(\"Sentiment Analysis: \"+ str(sentiment_value))"
   ]
  },
  {
   "cell_type": "code",
   "execution_count": 18,
   "id": "37c26346",
   "metadata": {},
   "outputs": [
    {
     "name": "stdout",
     "output_type": "stream",
     "text": [
      "Requirement already satisfied: google-cloud-storage in c:\\users\\kumar\\anaconda3\\lib\\site-packages (2.9.0)Note: you may need to restart the kernel to use updated packages.\n",
      "\n",
      "Requirement already satisfied: google-auth<3.0dev,>=1.25.0 in c:\\users\\kumar\\anaconda3\\lib\\site-packages (from google-cloud-storage) (2.16.1)\n",
      "Requirement already satisfied: google-cloud-core<3.0dev,>=2.3.0 in c:\\users\\kumar\\anaconda3\\lib\\site-packages (from google-cloud-storage) (2.3.2)\n",
      "Requirement already satisfied: google-api-core!=2.0.*,!=2.1.*,!=2.2.*,!=2.3.0,<3.0.0dev,>=1.31.5 in c:\\users\\kumar\\anaconda3\\lib\\site-packages (from google-cloud-storage) (2.11.0)\n",
      "Requirement already satisfied: google-resumable-media>=2.3.2 in c:\\users\\kumar\\anaconda3\\lib\\site-packages (from google-cloud-storage) (2.5.0)\n",
      "Requirement already satisfied: requests<3.0.0dev,>=2.18.0 in c:\\users\\kumar\\anaconda3\\lib\\site-packages (from google-cloud-storage) (2.26.0)\n",
      "Requirement already satisfied: googleapis-common-protos<2.0dev,>=1.56.2 in c:\\users\\kumar\\anaconda3\\lib\\site-packages (from google-api-core!=2.0.*,!=2.1.*,!=2.2.*,!=2.3.0,<3.0.0dev,>=1.31.5->google-cloud-storage) (1.59.0)\n",
      "Requirement already satisfied: protobuf!=3.20.0,!=3.20.1,!=4.21.0,!=4.21.1,!=4.21.2,!=4.21.3,!=4.21.4,!=4.21.5,<5.0.0dev,>=3.19.5 in c:\\users\\kumar\\anaconda3\\lib\\site-packages (from google-api-core!=2.0.*,!=2.1.*,!=2.2.*,!=2.3.0,<3.0.0dev,>=1.31.5->google-cloud-storage) (4.23.0)\n",
      "Requirement already satisfied: rsa<5,>=3.1.4 in c:\\users\\kumar\\anaconda3\\lib\\site-packages (from google-auth<3.0dev,>=1.25.0->google-cloud-storage) (4.9)\n",
      "Requirement already satisfied: pyasn1-modules>=0.2.1 in c:\\users\\kumar\\anaconda3\\lib\\site-packages (from google-auth<3.0dev,>=1.25.0->google-cloud-storage) (0.2.8)\n",
      "Requirement already satisfied: six>=1.9.0 in c:\\users\\kumar\\anaconda3\\lib\\site-packages (from google-auth<3.0dev,>=1.25.0->google-cloud-storage) (1.16.0)\n",
      "Requirement already satisfied: cachetools<6.0,>=2.0.0 in c:\\users\\kumar\\anaconda3\\lib\\site-packages (from google-auth<3.0dev,>=1.25.0->google-cloud-storage) (5.3.0)\n",
      "Requirement already satisfied: google-crc32c<2.0dev,>=1.0 in c:\\users\\kumar\\anaconda3\\lib\\site-packages (from google-resumable-media>=2.3.2->google-cloud-storage) (1.5.0)\n",
      "Requirement already satisfied: pyasn1<0.5.0,>=0.4.6 in c:\\users\\kumar\\anaconda3\\lib\\site-packages (from pyasn1-modules>=0.2.1->google-auth<3.0dev,>=1.25.0->google-cloud-storage) (0.4.8)\n",
      "Requirement already satisfied: charset-normalizer~=2.0.0 in c:\\users\\kumar\\anaconda3\\lib\\site-packages (from requests<3.0.0dev,>=2.18.0->google-cloud-storage) (2.0.4)\n",
      "Requirement already satisfied: urllib3<1.27,>=1.21.1 in c:\\users\\kumar\\anaconda3\\lib\\site-packages (from requests<3.0.0dev,>=2.18.0->google-cloud-storage) (1.26.7)\n",
      "Requirement already satisfied: idna<4,>=2.5 in c:\\users\\kumar\\anaconda3\\lib\\site-packages (from requests<3.0.0dev,>=2.18.0->google-cloud-storage) (3.2)\n",
      "Requirement already satisfied: certifi>=2017.4.17 in c:\\users\\kumar\\anaconda3\\lib\\site-packages (from requests<3.0.0dev,>=2.18.0->google-cloud-storage) (2021.10.8)\n"
     ]
    }
   ],
   "source": [
    "pip install google-cloud-storage\n"
   ]
  },
  {
   "cell_type": "code",
   "execution_count": 10,
   "id": "f58c35db",
   "metadata": {},
   "outputs": [],
   "source": [
    "import joblib"
   ]
  },
  {
   "cell_type": "code",
   "execution_count": 30,
   "id": "fb38d822",
   "metadata": {},
   "outputs": [],
   "source": []
  },
  {
   "cell_type": "code",
   "execution_count": 32,
   "id": "6e46cd9d",
   "metadata": {},
   "outputs": [
    {
     "data": {
      "text/plain": [
       "array(['No Hate and Offensive Speech'], dtype=object)"
      ]
     },
     "execution_count": 32,
     "metadata": {},
     "output_type": "execute_result"
    }
   ],
   "source": []
  },
  {
   "cell_type": "code",
   "execution_count": null,
   "id": "2433c729",
   "metadata": {},
   "outputs": [],
   "source": []
  },
  {
   "cell_type": "code",
   "execution_count": 17,
   "id": "573a444b",
   "metadata": {},
   "outputs": [],
   "source": [
    "with open (r'C:\\Users\\kumar\\Path_to_store_transcript_file\\transcript.txt') as f:\n",
    "    result=f.readline()"
   ]
  },
  {
   "cell_type": "raw",
   "id": "e885d96e",
   "metadata": {},
   "source": []
  },
  {
   "cell_type": "code",
   "execution_count": 18,
   "id": "751ec18b",
   "metadata": {},
   "outputs": [
    {
     "data": {
      "text/plain": [
       "'the boy was there when the sun goes if it is used '"
      ]
     },
     "execution_count": 18,
     "metadata": {},
     "output_type": "execute_result"
    }
   ],
   "source": [
    "result"
   ]
  },
  {
   "cell_type": "code",
   "execution_count": null,
   "id": "78d0e23e",
   "metadata": {},
   "outputs": [],
   "source": []
  }
 ],
 "metadata": {
  "kernelspec": {
   "display_name": "Python 3 (ipykernel)",
   "language": "python",
   "name": "python3"
  },
  "language_info": {
   "codemirror_mode": {
    "name": "ipython",
    "version": 3
   },
   "file_extension": ".py",
   "mimetype": "text/x-python",
   "name": "python",
   "nbconvert_exporter": "python",
   "pygments_lexer": "ipython3",
   "version": "3.9.7"
  }
 },
 "nbformat": 4,
 "nbformat_minor": 5
}
